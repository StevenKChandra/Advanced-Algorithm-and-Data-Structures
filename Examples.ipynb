{
 "cells": [
  {
   "cell_type": "markdown",
   "metadata": {},
   "source": [
    "# **Examples how to use the data structures and the algorithms**"
   ]
  },
  {
   "cell_type": "markdown",
   "metadata": {},
   "source": [
    "### **Data Structures**"
   ]
  },
  {
   "cell_type": "markdown",
   "metadata": {},
   "source": [
    "##### Priority Queue"
   ]
  },
  {
   "cell_type": "markdown",
   "metadata": {},
   "source": [
    "Import the priority queue and create the object"
   ]
  },
  {
   "cell_type": "code",
   "execution_count": 7,
   "metadata": {},
   "outputs": [],
   "source": [
    "from Data_Structures import PriorityQueue\n",
    "\n",
    "Queue = PriorityQueue()"
   ]
  },
  {
   "cell_type": "markdown",
   "metadata": {},
   "source": [
    "Use the insert(key, value) method to insert a key and value pair. This priority queue takes number (integer or float) as key and any python object as value"
   ]
  },
  {
   "cell_type": "code",
   "execution_count": 8,
   "metadata": {},
   "outputs": [],
   "source": [
    "Queue.insert(key = 12, value = \"Hello World\")\n",
    "Queue.insert(2, [\"Carrot\", \"Brocolli\", \"Apples\"])\n",
    "Queue.insert(7, 13)"
   ]
  },
  {
   "cell_type": "markdown",
   "metadata": {},
   "source": [
    "The minimum() method is used to return the node with minimum key on the priority queue, while extract_minimum() method will return and remove the node with minimum key from the priority queue.\n",
    "\n",
    "To call the node's key and value call the attribute key and value respectively"
   ]
  },
  {
   "cell_type": "code",
   "execution_count": 16,
   "metadata": {},
   "outputs": [
    {
     "name": "stdout",
     "output_type": "stream",
     "text": [
      "minimum node:\n",
      "<Data_Structures.PriorityQueue.PriorityQueue_Node object at 0x000002BB3E7B1270>\n",
      "12 Hello World \n",
      "\n",
      "minimum node in the queue after minimum() method\n",
      "<Data_Structures.PriorityQueue.PriorityQueue_Node object at 0x000002BB3E7B1270>\n",
      "12 Hello World\n"
     ]
    }
   ],
   "source": [
    "min = Queue.minimum()\n",
    "\n",
    "print (\"minimum node:\")\n",
    "print (min)\n",
    "print (min.key, min.value, \"\\n\")\n",
    "\n",
    "print (\"minimum node in the queue after minimum() method:\")\n",
    "print (Queue.minimum())\n",
    "print (Queue.minimum().key, Queue.minimum().value)"
   ]
  },
  {
   "cell_type": "code",
   "execution_count": 17,
   "metadata": {},
   "outputs": [
    {
     "name": "stdout",
     "output_type": "stream",
     "text": [
      "minimum node:\n",
      "<Data_Structures.PriorityQueue.PriorityQueue_Node object at 0x000002BB3E7B1270>\n",
      "12 Hello World \n",
      "\n",
      "minimum node in the queue after extract_minimum() method:\n",
      "<Data_Structures.PriorityQueue.PriorityQueue_Node object at 0x000002BB3E7B03D0>\n",
      "2 ['Carrot', 'Brocolli', 'Apples']\n"
     ]
    }
   ],
   "source": [
    "min = Queue.extract_minimum()\n",
    "\n",
    "print (\"minimum node:\")\n",
    "print (min)\n",
    "print (min.key, min.value, \"\\n\")\n",
    "\n",
    "print (\"minimum node in the queue after extract_minimum() method:\")\n",
    "print (Queue.minimum())\n",
    "print (Queue.minimum().key, Queue.minimum().value)"
   ]
  },
  {
   "cell_type": "markdown",
   "metadata": {},
   "source": [
    "##### Red Black Binary Tree"
   ]
  },
  {
   "cell_type": "markdown",
   "metadata": {},
   "source": [
    "Import the red-black binary tree and create the object"
   ]
  },
  {
   "cell_type": "code",
   "execution_count": 29,
   "metadata": {},
   "outputs": [],
   "source": [
    "from Data_Structures import RedBlackTree\n",
    "\n",
    "Tree = RedBlackTree()"
   ]
  },
  {
   "cell_type": "markdown",
   "metadata": {},
   "source": [
    "Use the insert(key, value) method to insert a key and value pair. This priority queue takes number (integer or float) as key and any python object as value"
   ]
  },
  {
   "cell_type": "code",
   "execution_count": 30,
   "metadata": {},
   "outputs": [],
   "source": [
    "Tree.insert(key = 41, value = \"Hello World\")\n",
    "Tree.insert(38, [\"Carrot\", \"Brocolli\", \"Apples\"])\n",
    "Tree.insert(31, 13)\n",
    "Tree.insert(12, (\"House\", \"Car\"))\n",
    "Tree.insert(19, None)\n",
    "Tree.insert(8, False)"
   ]
  },
  {
   "cell_type": "markdown",
   "metadata": {},
   "source": [
    "The search(key) method is used to return the node with the said key or return None if a node with the said key is not found.\n",
    "\n",
    "To call the node's key and value call the attribute key and value respectively"
   ]
  },
  {
   "cell_type": "code",
   "execution_count": 31,
   "metadata": {},
   "outputs": [
    {
     "name": "stdout",
     "output_type": "stream",
     "text": [
      "If search is successful:\n",
      "<Data_Structures.RedBlackTree.RedBlackTree_Node object at 0x000002BB3E75AF80>\n",
      "38 ['Carrot', 'Brocolli', 'Apples'] \n",
      "\n",
      "If search is unsuccessful:\n",
      "None\n"
     ]
    }
   ],
   "source": [
    "Found_Search = Tree.search(38)\n",
    "print(\"If search is successful:\")\n",
    "print(Found_Search)\n",
    "print(Found_Search.key, Found_Search.value, \"\\n\")\n",
    "\n",
    "print(\"If search is unsuccessful:\")\n",
    "NotFound_Search = Tree.search(100)\n",
    "print(NotFound_Search)"
   ]
  },
  {
   "cell_type": "markdown",
   "metadata": {},
   "source": [
    "Use the delete (key) method to delete the node with the said key if it exist in the tree"
   ]
  },
  {
   "cell_type": "code",
   "execution_count": 32,
   "metadata": {},
   "outputs": [
    {
     "name": "stdout",
     "output_type": "stream",
     "text": [
      "search the node with 8 key: <Data_Structures.RedBlackTree.RedBlackTree_Node object at 0x000002BB3E758C10>\n",
      "delete the node with 8 key\n",
      "search the node with 8 key again: None\n"
     ]
    }
   ],
   "source": [
    "print (\"search the node with 8 key:\" , Tree.search(8))\n",
    "print (\"delete the node with 8 key\")\n",
    "Tree.delete(8)\n",
    "print (\"search the node with 8 key again:\" , Tree.search(8))\n",
    "Tree.delete(12)\n",
    "Tree.delete(41)"
   ]
  },
  {
   "cell_type": "markdown",
   "metadata": {},
   "source": [
    "Use morris_inorder() method to print all the key in ordered list"
   ]
  },
  {
   "cell_type": "code",
   "execution_count": 33,
   "metadata": {},
   "outputs": [
    {
     "name": "stdout",
     "output_type": "stream",
     "text": [
      "19 31 38 "
     ]
    }
   ],
   "source": [
    "Tree.morris_inorder()"
   ]
  },
  {
   "cell_type": "markdown",
   "metadata": {},
   "source": [
    "Traverse through the tree by calling the root of the tree and going left or right from the root"
   ]
  },
  {
   "cell_type": "code",
   "execution_count": 40,
   "metadata": {},
   "outputs": [
    {
     "name": "stdout",
     "output_type": "stream",
     "text": [
      "    31 True\n",
      "    /   \\\n",
      "   /     \\\n",
      "19 True 38 True\n"
     ]
    }
   ],
   "source": [
    "print(\"   \",Tree.root.key, Tree.root.black)\n",
    "print(\"    /   \\\\\")\n",
    "print(\"   /     \\\\\")\n",
    "print(Tree.root.left.key, Tree.root.left.black, Tree.root.right.key, Tree.root.right.black)"
   ]
  }
 ],
 "metadata": {
  "kernelspec": {
   "display_name": "Python 3",
   "language": "python",
   "name": "python3"
  },
  "language_info": {
   "codemirror_mode": {
    "name": "ipython",
    "version": 3
   },
   "file_extension": ".py",
   "mimetype": "text/x-python",
   "name": "python",
   "nbconvert_exporter": "python",
   "pygments_lexer": "ipython3",
   "version": "3.10.8"
  },
  "orig_nbformat": 4
 },
 "nbformat": 4,
 "nbformat_minor": 2
}
